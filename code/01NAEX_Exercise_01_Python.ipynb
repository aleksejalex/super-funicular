{
  "nbformat": 4,
  "nbformat_minor": 0,
  "metadata": {
    "colab": {
      "private_outputs": true,
      "provenance": [],
      "include_colab_link": true
    },
    "kernelspec": {
      "name": "python3",
      "display_name": "Python 3"
    },
    "language_info": {
      "name": "python"
    }
  },
  "cells": [
    {
      "cell_type": "markdown",
      "metadata": {
        "id": "view-in-github",
        "colab_type": "text"
      },
      "source": [
        "<a href=\"https://colab.research.google.com/github/aleksejalex/super-funicular/blob/main/code/01NAEX_Exercise_01_Python.ipynb\" target=\"_parent\"><img src=\"https://colab.research.google.com/assets/colab-badge.svg\" alt=\"Open In Colab\"/></a>"
      ]
    },
    {
      "cell_type": "markdown",
      "source": [
        "# 01NAEX - Exercise 01 (solution by A. Gaj)\n",
        "Data and exercises come from D.C. Montgomery: Design and Analysis of Experiment\n"
      ],
      "metadata": {
        "id": "IJZpZoupsfsX"
      }
    },
    {
      "cell_type": "markdown",
      "metadata": {
        "id": "nEGyKc3C8teG"
      },
      "source": [
        "## Setup"
      ]
    },
    {
      "cell_type": "code",
      "execution_count": null,
      "metadata": {
        "id": "26cEQ8Nt8teK"
      },
      "outputs": [],
      "source": [
        "#!pip install rpy2\n",
        "#%load_ext rpy2.ipython"
      ]
    },
    {
      "cell_type": "code",
      "source": [
        "import numpy as np\n",
        "import scipy as scp\n",
        "import sympy as sp\n",
        "import torch as tc\n",
        "import pandas as pd\n",
        "import seaborn as sbn\n",
        "import matplotlib.pyplot as plt\n",
        "from scipy.stats import norm, t"
      ],
      "metadata": {
        "id": "AzDtqykGeacb"
      },
      "execution_count": null,
      "outputs": []
    },
    {
      "cell_type": "markdown",
      "source": [
        "## Assigment:\n",
        "\n",
        "* Run and familiarize with Python.\n",
        "* Solve problems 2.20, 2.26, 2.30 from following slides.\n",
        "  (originally from Montgomery - Design and Analysis of Experiments).\n"
      ],
      "metadata": {
        "id": "7SzDDewJ0Gps"
      }
    },
    {
      "cell_type": "markdown",
      "source": [
        "### Exercises 2.20\n",
        "\n",
        "The shelf life of a carbonated beverage is of interest. Ten bottles are randomly\n",
        "selected and tested, and the following results are obtained:\n",
        "\n",
        "| Days ||\n",
        "|--------------------------------------------||\n",
        "| 108      |  138  |\n",
        "| 124      |  163  |\n",
        "| 124      |  159  |\n",
        "| 106      |  134  |\n",
        "| 115      |  139  |\n",
        "\n",
        "* We would like to demonstrate that the mean shelf life exceeds 120 days.\n",
        "Set up appropriate hypotheses for investigating this claim.\n",
        "* Test these hypotheses using significant level $\\alpha = 0.01$. Find the P-value\n",
        "for the test. What are your conclusions?\n",
        "* Construct a 99 percent confidence interval on the mean shelf life."
      ],
      "metadata": {
        "id": "zvHL1CwW0VKS"
      }
    },
    {
      "cell_type": "code",
      "source": [
        "# Read the data from the URL\n",
        "url_20 = \"https://raw.githubusercontent.com/francji1/01NAEX/main/data/Ex02_20.csv\"\n",
        "df20 = pd.read_csv(url_20, sep=\";\")\n",
        "\n",
        "# Display the first few rows of the dataframe\n",
        "df20.head()"
      ],
      "metadata": {
        "id": "tQr4UVuXtrC_"
      },
      "execution_count": null,
      "outputs": []
    },
    {
      "cell_type": "markdown",
      "source": [
        "SOLUTION:"
      ],
      "metadata": {
        "id": "FGZPi3stCt3u"
      }
    },
    {
      "cell_type": "code",
      "source": [
        "df20.describe()"
      ],
      "metadata": {
        "id": "9V-dgdZSRV_H"
      },
      "execution_count": null,
      "outputs": []
    },
    {
      "cell_type": "code",
      "source": [
        "# standart plotting routine:\n",
        "plt.figure(figsize=(9, 4), dpi=140)\n",
        "plt.subplot(131)\n",
        "sbn.histplot(data=df20, kde=True)\n",
        "plt.title('Histogram and KDE')\n",
        "\n",
        "plt.subplot(132)\n",
        "sbn.boxplot(data=df20)\n",
        "plt.title('Boxplot')\n",
        "\n",
        "plt.subplot(133)\n",
        "sbn.violinplot(data=df20)\n",
        "plt.title('Violinplot')\n",
        "\n",
        "plt.suptitle('df20 - visualisation')\n",
        "\n",
        "plt.savefig('df20.png', dpi=400)\n",
        "plt.show()"
      ],
      "metadata": {
        "id": "6hYM9cnDssiZ"
      },
      "execution_count": null,
      "outputs": []
    },
    {
      "cell_type": "markdown",
      "source": [
        "We shall use **one sample t-test** [from SciPy](https://docs.scipy.org/doc/scipy/reference/generated/scipy.stats.ttest_1samp.html)"
      ],
      "metadata": {
        "id": "PuCnHICb-QLE"
      }
    },
    {
      "cell_type": "code",
      "source": [
        "# formulate H_0\n",
        "print(f'H_0: the mean shelf life (X) exceeds X_0 = 120 (days), \\n     i.e H_0: EX>120 \\n\\n')\n",
        "\n",
        "# Perform a one-sample t-test\n",
        "t_statistic, p_value = scp.stats.ttest_1samp(df20, popmean=120, alternative='less')\n",
        "    # ‘less’: the mean of the underlying distribution of the sample is less than the given population mean (popmean)\n",
        "\n",
        "alpha = 0.01  # significance level\n",
        "if p_value < alpha:\n",
        "    # we dont have enough evidence to accept H_0\n",
        "    print(\"Reject H_0 (Have to accept H_1). The mean is less than 120 days.\")\n",
        "else:\n",
        "    # significant evidence to reject H_0, i.e. to accept H_1\n",
        "    print(\"Can't reject H_0 (Have to accept H_0). The mean exceeds 120 days.\")"
      ],
      "metadata": {
        "id": "MLgzgw0JlTLE"
      },
      "execution_count": null,
      "outputs": []
    },
    {
      "cell_type": "code",
      "source": [
        "print(f'p_value = {p_value}')"
      ],
      "metadata": {
        "id": "stngxha1ucco"
      },
      "execution_count": null,
      "outputs": []
    },
    {
      "cell_type": "code",
      "source": [],
      "metadata": {
        "id": "lIcRrPlVRV0v"
      },
      "execution_count": null,
      "outputs": []
    },
    {
      "cell_type": "code",
      "source": [
        "#### CONSTRUCT CONFIDENCE INTERVAL!!!"
      ],
      "metadata": {
        "id": "qx8QPHkzRVyH"
      },
      "execution_count": null,
      "outputs": []
    },
    {
      "cell_type": "markdown",
      "source": [
        "\n",
        "### Exercise 2.26\n",
        "\n",
        "The following are the burning times (in minutes) of chemical flares of two different formulations. The design engineers are interested in both the mean and\n",
        "variance of the burning times.\n",
        "\n",
        "|Type1|| Type2 ||\n",
        "|--------------------------------||||\n",
        "| 65 | 82 | 64 | 56 |\n",
        "| 81 | 67 | 71 | 69 |\n",
        "| 57 | 59 | 83 | 74 |\n",
        "| 66 | 75 | 59 | 82 |\n",
        "| 82 | 70 | 65 | 79 |\n",
        "\n",
        "\n",
        "1. Test the hypothesis that the two variances are equal. Use $\\alpha = 0.05$.\n",
        "2. Using the results of part 1), test the hypothesis that the mean burning\n",
        "times are equal. Use $\\alpha = 0.05$. What is the P-value for this test?\n",
        "3. Discuss the role of the normality assumption in this problem. Check the\n",
        "assumption of normality for both types of flares"
      ],
      "metadata": {
        "id": "Ylfv4-d_3SEl"
      }
    },
    {
      "cell_type": "code",
      "source": [
        "# Read the data from the URL\n",
        "url_26 = \"https://raw.githubusercontent.com/francji1/01NAEX/main/data/Ex02_26.csv\"\n",
        "df26 = pd.read_csv(url_26, sep=\";\")\n",
        "\n",
        "# Display the first few rows of the dataframe\n",
        "df26.head()"
      ],
      "metadata": {
        "id": "YtM7AlkJ0UF_"
      },
      "execution_count": null,
      "outputs": []
    },
    {
      "cell_type": "markdown",
      "source": [
        "SOLUTION:"
      ],
      "metadata": {
        "id": "6Lyi5h_xCq-m"
      }
    },
    {
      "cell_type": "code",
      "source": [
        "# standart plotting routine:\n",
        "plt.figure(figsize=(9, 4), dpi=140)\n",
        "plt.subplot(131)\n",
        "sbn.histplot(data=df26, kde=True)\n",
        "plt.title('Histogram and KDE')\n",
        "\n",
        "plt.subplot(132)\n",
        "sbn.boxplot(data=df26)\n",
        "plt.title('Boxplot')\n",
        "\n",
        "plt.subplot(133)\n",
        "sbn.violinplot(data=df26)\n",
        "plt.title('Violinplot')\n",
        "\n",
        "plt.suptitle('df26 - visualisation')\n",
        "\n",
        "plt.savefig('df26.png', dpi=400)\n",
        "plt.show()"
      ],
      "metadata": {
        "id": "OS20BC8Ct4Bc"
      },
      "execution_count": null,
      "outputs": []
    },
    {
      "cell_type": "markdown",
      "source": [
        "We shall use Levene's test (since prior distributions of data are unknown).\n",
        "[Levene in SciPy](https://docs.scipy.org/doc/scipy/reference/generated/scipy.stats.levene.html#scipy.stats.levene)"
      ],
      "metadata": {
        "id": "SljvuTlt-CZK"
      }
    },
    {
      "cell_type": "code",
      "source": [
        "# formulate H_0\n",
        "print(f'H_0: Var[Type1] = Var[Type2]')\n",
        "\n",
        "# Perform a one-sample t-test\n",
        "stat, p_value = scp.stats.levene(df26.Type1, df26.Type2, center='mean')\n",
        "\n",
        "alpha = 0.05  # significance level\n",
        "if p_value < alpha:\n",
        "    # we dont have enough evidence to accept H_0\n",
        "    print(\"Reject H_0 (Have to accept H_1). Var[Type1] != Var[Type2]\")\n",
        "else:\n",
        "    # significant evidence to reject H_0, i.e. to accept H_1\n",
        "    print(\"Can't reject H_0 (Have to accept H_0). Var[Type1] = Var[Type2]\")"
      ],
      "metadata": {
        "id": "LI_v3qgWw8ry"
      },
      "execution_count": null,
      "outputs": []
    },
    {
      "cell_type": "code",
      "source": [
        "p_value"
      ],
      "metadata": {
        "id": "7MIkMNJUw8mX"
      },
      "execution_count": null,
      "outputs": []
    },
    {
      "cell_type": "code",
      "source": [
        "# formulate H_0\n",
        "print(f'H_0: E[Type1] = E[Type2]')\n",
        "\n",
        "# Perform a one-sample t-test\n",
        "stat, p_value = scp.stats.ttest_ind(df26.Type1, df26.Type1, equal_var=True, alternative='two-sided')\n",
        "# result from previous test is used here via \"equal_var\" parameter\n",
        "# 'two-sided' emphasises that we test equality\n",
        "\n",
        "alpha = 0.05  # significance level\n",
        "if p_value < alpha:\n",
        "    # we dont have enough evidence to accept H_0\n",
        "    print(\"Reject H_0 (Have to accept H_1). E[Type1] != E[Type2]\")\n",
        "else:\n",
        "    # significant evidence to reject H_0, i.e. to accept H_1\n",
        "    print(\"Can't reject H_0 (Have to accept H_0). E[Type1] = E[Type2]\")"
      ],
      "metadata": {
        "id": "aEC1Dzlx_5cl"
      },
      "execution_count": null,
      "outputs": []
    },
    {
      "cell_type": "code",
      "source": [
        "scp.stats.ttest_ind(df26.Type1, df26.Type1, equal_var=True, alternative='two-sided')\n",
        "# result from previous test is used here via \"equal_var\" parameter\n",
        "# 'two-sided' emphasises that we test equality\n"
      ],
      "metadata": {
        "id": "Y37JWztCw8j6"
      },
      "execution_count": null,
      "outputs": []
    },
    {
      "cell_type": "code",
      "source": [],
      "metadata": {
        "id": "4Uz6nTuzw8hR"
      },
      "execution_count": null,
      "outputs": []
    },
    {
      "cell_type": "code",
      "source": [],
      "metadata": {
        "id": "wVRwY4zhw8eP"
      },
      "execution_count": null,
      "outputs": []
    },
    {
      "cell_type": "markdown",
      "source": [
        "### Exercise 2.30\n",
        "\n",
        "Front housings for cell phones are manufactured in an injection molding process. The time the part is allowed to cool in the mold before removal is thought to influence the occurrence of a particularly troublesome cosmetic defect, flow lines, in the finished housing. After manufacturing, the housings are inspected visually and assigned a score between 1 and 10 based on their appearance, with 10 corresponding to a perfect part and 1 corresponding to a completely defective part. An experiment was conducted using two cool-down times, 10 and 20 seconds, and 20 housings were evaluated at each level of cool-down time. All 40 observations in this experiment were run in random order.\n",
        "\n",
        "\n",
        "| 10s |||| 20s ||||\n",
        "|--------------------------------||||||||\n",
        "| 1 | 3 | 2 | 6 | 7 | 6 | 8 | 9 |\n",
        "| 1 | 5 | 3 | 3 | 5 | 5 | 9 | 7 |\n",
        "| 5 | 2 | 1 | 1 | 5 | 4 | 8 | 6 |\n",
        "| 5 | 6 | 2 | 8 | 6 | 8 | 4 | 5 |\n",
        "| 3 | 2 | 5 | 3 | 6 | 8 | 7 | 7 |\n",
        "\n",
        "\n",
        "* Is there evidence to support the claim that the longer cool-down time\n",
        "results in fewer appearance defects? Use $\\alpha = 0.05$.\n",
        "* What is the P-value for the test conducted in the previous part?\n",
        "* Find a 95 percent confidence interval on the difference in means. Provide\n",
        "a practical interpretation of this interval.\n",
        "* Draw dot diagrams to assist in interpreting the results from this\n",
        "experiment.\n"
      ],
      "metadata": {
        "id": "CU8aDa_V3y_1"
      }
    },
    {
      "cell_type": "code",
      "source": [
        "# Read the data from the URL\n",
        "url_30 = \"https://raw.githubusercontent.com/francji1/01NAEX/main/data/Ex02_30.csv\"\n",
        "df30 = pd.read_csv(url_30, sep=\";\")\n",
        "\n",
        "# Display the first few rows of the dataframe\n",
        "df30.head()"
      ],
      "metadata": {
        "id": "OPmTG8WruIYf"
      },
      "execution_count": null,
      "outputs": []
    },
    {
      "cell_type": "markdown",
      "source": [
        "SOLUTION:"
      ],
      "metadata": {
        "id": "rvOPQRe_65uE"
      }
    },
    {
      "cell_type": "code",
      "source": [],
      "metadata": {
        "id": "1Lw60lOAt8AC"
      },
      "execution_count": null,
      "outputs": []
    }
  ]
}